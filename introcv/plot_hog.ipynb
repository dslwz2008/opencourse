{
 "cells": [
  {
   "cell_type": "code",
   "execution_count": 1,
   "metadata": {
    "collapsed": false
   },
   "outputs": [],
   "source": [
    "%matplotlib inline"
   ]
  },
  {
   "cell_type": "markdown",
   "metadata": {},
   "source": [
    "<div class=\"document\" id=\"histogram-of-oriented-gradients\">\n",
    "<h1 class=\"title\">Histogram of Oriented Gradients</h1>\n",
    "<p>The <a class=\"reference external\" href=\"http://en.wikipedia.org/wiki/Histogram_of_oriented_gradients\">Histogram of Oriented Gradient</a> (HOG) feature\n",
    "descriptor [1] is popular for object detection.</p>\n",
    "<p>In the following example, we compute the HOG descriptor and display\n",
    "a visualisation.</p>\n",
    "<div class=\"section\" id=\"algorithm-overview\">\n",
    "<h1>Algorithm overview</h1>\n",
    "<p>Compute a Histogram of Oriented Gradients (HOG) by</p>\n",
    "<blockquote>\n",
    "<ol class=\"arabic simple\">\n",
    "<li>(optional) global image normalisation</li>\n",
    "<li>computing the gradient image in x and y</li>\n",
    "<li>computing gradient histograms</li>\n",
    "<li>normalising across blocks</li>\n",
    "<li>flattening into a feature vector</li>\n",
    "</ol>\n",
    "</blockquote>\n",
    "<p>The first stage applies an optional global image normalisation\n",
    "equalisation that is designed to reduce the influence of illumination\n",
    "effects. In practice we use gamma (power law) compression, either\n",
    "computing the square root or the log of each colour channel.\n",
    "Image texture strength is typically proportional to the local surface\n",
    "illumination so this compression helps to reduce the effects of local\n",
    "shadowing and illumination variations.</p>\n",
    "<p>The second stage computes first order image gradients. These capture\n",
    "contour, silhouette and some texture information, while providing\n",
    "further resistance to illumination variations. The locally dominant\n",
    "colour channel is used, which provides colour invariance to a large\n",
    "extent. Variant methods may also include second order image derivatives,\n",
    "which act as primitive bar detectors - a useful feature for capturing,\n",
    "e.g. bar like structures in bicycles and limbs in humans.</p>\n",
    "<p>The third stage aims to produce an encoding that is sensitive to\n",
    "local image content while remaining resistant to small changes in\n",
    "pose or appearance. The adopted method pools gradient orientation\n",
    "information locally in the same way as the SIFT [2]\n",
    "feature. The image window is divided into small spatial regions,\n",
    "called &quot;cells&quot;. For each cell we accumulate a local 1-D histogram\n",
    "of gradient or edge orientations over all the pixels in the\n",
    "cell. This combined cell-level 1-D histogram forms the basic\n",
    "&quot;orientation histogram&quot; representation. Each orientation histogram\n",
    "divides the gradient angle range into a fixed number of\n",
    "predetermined bins. The gradient magnitudes of the pixels in the\n",
    "cell are used to vote into the orientation histogram.</p>\n",
    "<p>The fourth stage computes normalisation, which takes local groups of\n",
    "cells and contrast normalises their overall responses before passing\n",
    "to next stage. Normalisation introduces better invariance to illumination,\n",
    "shadowing, and edge contrast. It is performed by accumulating a measure\n",
    "of local histogram &quot;energy&quot; over local groups of cells that we call\n",
    "&quot;blocks&quot;. The result is used to normalise each cell in the block.\n",
    "Typically each individual cell is shared between several blocks, but\n",
    "its normalisations are block dependent and thus different. The cell\n",
    "thus appears several times in the final output vector with different\n",
    "normalisations. This may seem redundant but it improves the performance.\n",
    "We refer to the normalised block descriptors as Histogram of Oriented\n",
    "Gradient (HOG) descriptors.</p>\n",
    "<p>The final step collects the HOG descriptors from all blocks of a dense\n",
    "overlapping grid of blocks covering the detection window into a combined\n",
    "feature vector for use in the window classifier.</p>\n",
    "</div>\n",
    "<div class=\"section\" id=\"references\">\n",
    "<h1>References</h1>\n",
    "<table class=\"docutils footnote\" frame=\"void\" id=\"id1\" rules=\"none\">\n",
    "<colgroup><col class=\"label\" /><col /></colgroup>\n",
    "<tbody valign=\"top\">\n",
    "<tr><td class=\"label\">[1]</td><td>Dalal, N. and Triggs, B., &quot;Histograms of Oriented Gradients for\n",
    "Human Detection,&quot; IEEE Computer Society Conference on Computer\n",
    "Vision and Pattern Recognition, 2005, San Diego, CA, USA.</td></tr>\n",
    "</tbody>\n",
    "</table>\n",
    "<table class=\"docutils footnote\" frame=\"void\" id=\"id2\" rules=\"none\">\n",
    "<colgroup><col class=\"label\" /><col /></colgroup>\n",
    "<tbody valign=\"top\">\n",
    "<tr><td class=\"label\">[2]</td><td>David G. Lowe, &quot;Distinctive image features from scale-invariant\n",
    "keypoints,&quot; International Journal of Computer Vision, 60, 2 (2004),\n",
    "pp. 91-110.</td></tr>\n",
    "</tbody>\n",
    "</table>\n",
    "</div>\n",
    "</div>\n"
   ]
  },
  {
   "cell_type": "code",
   "execution_count": 2,
   "metadata": {
    "collapsed": false
   },
   "outputs": [
    {
     "ename": "ImportError",
     "evalue": "DLL load failed: 找不到指定的模块。",
     "output_type": "error",
     "traceback": [
      "\u001b[1;31m---------------------------------------------------------------------------\u001b[0m",
      "\u001b[1;31mImportError\u001b[0m                               Traceback (most recent call last)",
      "\u001b[1;32m<ipython-input-2-bbafeda5566c>\u001b[0m in \u001b[0;36m<module>\u001b[1;34m()\u001b[0m\n\u001b[0;32m      1\u001b[0m \u001b[1;32mimport\u001b[0m \u001b[0mmatplotlib\u001b[0m\u001b[1;33m.\u001b[0m\u001b[0mpyplot\u001b[0m \u001b[1;32mas\u001b[0m \u001b[0mplt\u001b[0m\u001b[1;33m\u001b[0m\u001b[0m\n\u001b[0;32m      2\u001b[0m \u001b[1;33m\u001b[0m\u001b[0m\n\u001b[1;32m----> 3\u001b[1;33m \u001b[1;32mfrom\u001b[0m \u001b[0mskimage\u001b[0m\u001b[1;33m.\u001b[0m\u001b[0mfeature\u001b[0m \u001b[1;32mimport\u001b[0m \u001b[0mhog\u001b[0m\u001b[1;33m\u001b[0m\u001b[0m\n\u001b[0m\u001b[0;32m      4\u001b[0m \u001b[1;32mfrom\u001b[0m \u001b[0mskimage\u001b[0m \u001b[1;32mimport\u001b[0m \u001b[0mdata\u001b[0m\u001b[1;33m,\u001b[0m \u001b[0mcolor\u001b[0m\u001b[1;33m,\u001b[0m \u001b[0mexposure\u001b[0m\u001b[1;33m\u001b[0m\u001b[0m\n\u001b[0;32m      5\u001b[0m \u001b[1;33m\u001b[0m\u001b[0m\n",
      "\u001b[1;32md:\\Anaconda2\\lib\\site-packages\\skimage\\feature\\__init__.py\u001b[0m in \u001b[0;36m<module>\u001b[1;34m()\u001b[0m\n\u001b[1;32m----> 1\u001b[1;33m \u001b[1;32mfrom\u001b[0m \u001b[1;33m.\u001b[0m\u001b[0m_canny\u001b[0m \u001b[1;32mimport\u001b[0m \u001b[0mcanny\u001b[0m\u001b[1;33m\u001b[0m\u001b[0m\n\u001b[0m\u001b[0;32m      2\u001b[0m \u001b[1;32mfrom\u001b[0m \u001b[1;33m.\u001b[0m\u001b[0m_daisy\u001b[0m \u001b[1;32mimport\u001b[0m \u001b[0mdaisy\u001b[0m\u001b[1;33m\u001b[0m\u001b[0m\n\u001b[0;32m      3\u001b[0m \u001b[1;32mfrom\u001b[0m \u001b[1;33m.\u001b[0m\u001b[0m_hog\u001b[0m \u001b[1;32mimport\u001b[0m \u001b[0mhog\u001b[0m\u001b[1;33m\u001b[0m\u001b[0m\n\u001b[0;32m      4\u001b[0m \u001b[1;32mfrom\u001b[0m \u001b[1;33m.\u001b[0m\u001b[0mtexture\u001b[0m \u001b[1;32mimport\u001b[0m \u001b[0mgreycomatrix\u001b[0m\u001b[1;33m,\u001b[0m \u001b[0mgreycoprops\u001b[0m\u001b[1;33m,\u001b[0m \u001b[0mlocal_binary_pattern\u001b[0m\u001b[1;33m\u001b[0m\u001b[0m\n\u001b[0;32m      5\u001b[0m \u001b[1;32mfrom\u001b[0m \u001b[1;33m.\u001b[0m\u001b[0mpeak\u001b[0m \u001b[1;32mimport\u001b[0m \u001b[0mpeak_local_max\u001b[0m\u001b[1;33m\u001b[0m\u001b[0m\n",
      "\u001b[1;32md:\\Anaconda2\\lib\\site-packages\\skimage\\feature\\_canny.py\u001b[0m in \u001b[0;36m<module>\u001b[1;34m()\u001b[0m\n\u001b[0;32m     14\u001b[0m \u001b[1;33m\u001b[0m\u001b[0m\n\u001b[0;32m     15\u001b[0m \u001b[1;32mimport\u001b[0m \u001b[0mnumpy\u001b[0m \u001b[1;32mas\u001b[0m \u001b[0mnp\u001b[0m\u001b[1;33m\u001b[0m\u001b[0m\n\u001b[1;32m---> 16\u001b[1;33m \u001b[1;32mimport\u001b[0m \u001b[0mscipy\u001b[0m\u001b[1;33m.\u001b[0m\u001b[0mndimage\u001b[0m \u001b[1;32mas\u001b[0m \u001b[0mndi\u001b[0m\u001b[1;33m\u001b[0m\u001b[0m\n\u001b[0m\u001b[0;32m     17\u001b[0m from scipy.ndimage import (gaussian_filter,\n\u001b[0;32m     18\u001b[0m                            generate_binary_structure, binary_erosion, label)\n",
      "\u001b[1;32md:\\Anaconda2\\lib\\site-packages\\scipy\\ndimage\\__init__.py\u001b[0m in \u001b[0;36m<module>\u001b[1;34m()\u001b[0m\n\u001b[0;32m    170\u001b[0m \u001b[1;32mfrom\u001b[0m \u001b[0m__future__\u001b[0m \u001b[1;32mimport\u001b[0m \u001b[0mdivision\u001b[0m\u001b[1;33m,\u001b[0m \u001b[0mprint_function\u001b[0m\u001b[1;33m,\u001b[0m \u001b[0mabsolute_import\u001b[0m\u001b[1;33m\u001b[0m\u001b[0m\n\u001b[0;32m    171\u001b[0m \u001b[1;33m\u001b[0m\u001b[0m\n\u001b[1;32m--> 172\u001b[1;33m \u001b[1;32mfrom\u001b[0m \u001b[1;33m.\u001b[0m\u001b[0mfilters\u001b[0m \u001b[1;32mimport\u001b[0m \u001b[1;33m*\u001b[0m\u001b[1;33m\u001b[0m\u001b[0m\n\u001b[0m\u001b[0;32m    173\u001b[0m \u001b[1;32mfrom\u001b[0m \u001b[1;33m.\u001b[0m\u001b[0mfourier\u001b[0m \u001b[1;32mimport\u001b[0m \u001b[1;33m*\u001b[0m\u001b[1;33m\u001b[0m\u001b[0m\n\u001b[0;32m    174\u001b[0m \u001b[1;32mfrom\u001b[0m \u001b[1;33m.\u001b[0m\u001b[0minterpolation\u001b[0m \u001b[1;32mimport\u001b[0m \u001b[1;33m*\u001b[0m\u001b[1;33m\u001b[0m\u001b[0m\n",
      "\u001b[1;32md:\\Anaconda2\\lib\\site-packages\\scipy\\ndimage\\filters.py\u001b[0m in \u001b[0;36m<module>\u001b[1;34m()\u001b[0m\n\u001b[0;32m     35\u001b[0m \u001b[1;32mfrom\u001b[0m \u001b[1;33m.\u001b[0m \u001b[1;32mimport\u001b[0m \u001b[0m_ni_support\u001b[0m\u001b[1;33m\u001b[0m\u001b[0m\n\u001b[0;32m     36\u001b[0m \u001b[1;32mfrom\u001b[0m \u001b[1;33m.\u001b[0m \u001b[1;32mimport\u001b[0m \u001b[0m_nd_image\u001b[0m\u001b[1;33m\u001b[0m\u001b[0m\n\u001b[1;32m---> 37\u001b[1;33m \u001b[1;32mfrom\u001b[0m \u001b[0mscipy\u001b[0m\u001b[1;33m.\u001b[0m\u001b[0mmisc\u001b[0m \u001b[1;32mimport\u001b[0m \u001b[0mdoccer\u001b[0m\u001b[1;33m\u001b[0m\u001b[0m\n\u001b[0m\u001b[0;32m     38\u001b[0m \u001b[1;32mfrom\u001b[0m \u001b[0mscipy\u001b[0m\u001b[1;33m.\u001b[0m\u001b[0m_lib\u001b[0m\u001b[1;33m.\u001b[0m\u001b[0m_version\u001b[0m \u001b[1;32mimport\u001b[0m \u001b[0mNumpyVersion\u001b[0m\u001b[1;33m\u001b[0m\u001b[0m\n\u001b[0;32m     39\u001b[0m \u001b[1;33m\u001b[0m\u001b[0m\n",
      "\u001b[1;32md:\\Anaconda2\\lib\\site-packages\\scipy\\misc\\__init__.py\u001b[0m in \u001b[0;36m<module>\u001b[1;34m()\u001b[0m\n\u001b[0;32m     47\u001b[0m \u001b[1;32mfrom\u001b[0m \u001b[1;33m.\u001b[0m\u001b[0mcommon\u001b[0m \u001b[1;32mimport\u001b[0m \u001b[1;33m*\u001b[0m\u001b[1;33m\u001b[0m\u001b[0m\n\u001b[0;32m     48\u001b[0m \u001b[1;32mfrom\u001b[0m \u001b[0mnumpy\u001b[0m \u001b[1;32mimport\u001b[0m \u001b[0mwho\u001b[0m\u001b[1;33m,\u001b[0m \u001b[0msource\u001b[0m\u001b[1;33m,\u001b[0m \u001b[0minfo\u001b[0m \u001b[1;32mas\u001b[0m \u001b[0m_info\u001b[0m\u001b[1;33m\u001b[0m\u001b[0m\n\u001b[1;32m---> 49\u001b[1;33m \u001b[1;32mfrom\u001b[0m \u001b[0mscipy\u001b[0m\u001b[1;33m.\u001b[0m\u001b[0mspecial\u001b[0m \u001b[1;32mimport\u001b[0m \u001b[0mcomb\u001b[0m\u001b[1;33m,\u001b[0m \u001b[0mfactorial\u001b[0m\u001b[1;33m,\u001b[0m \u001b[0mfactorial2\u001b[0m\u001b[1;33m,\u001b[0m \u001b[0mfactorialk\u001b[0m\u001b[1;33m\u001b[0m\u001b[0m\n\u001b[0m\u001b[0;32m     50\u001b[0m \u001b[1;33m\u001b[0m\u001b[0m\n\u001b[0;32m     51\u001b[0m \u001b[1;32mimport\u001b[0m \u001b[0msys\u001b[0m\u001b[1;33m\u001b[0m\u001b[0m\n",
      "\u001b[1;32md:\\Anaconda2\\lib\\site-packages\\scipy\\special\\__init__.py\u001b[0m in \u001b[0;36m<module>\u001b[1;34m()\u001b[0m\n\u001b[0;32m    599\u001b[0m \u001b[1;32mfrom\u001b[0m \u001b[0m__future__\u001b[0m \u001b[1;32mimport\u001b[0m \u001b[0mdivision\u001b[0m\u001b[1;33m,\u001b[0m \u001b[0mprint_function\u001b[0m\u001b[1;33m,\u001b[0m \u001b[0mabsolute_import\u001b[0m\u001b[1;33m\u001b[0m\u001b[0m\n\u001b[0;32m    600\u001b[0m \u001b[1;33m\u001b[0m\u001b[0m\n\u001b[1;32m--> 601\u001b[1;33m \u001b[1;32mfrom\u001b[0m \u001b[1;33m.\u001b[0m\u001b[0m_ufuncs\u001b[0m \u001b[1;32mimport\u001b[0m \u001b[1;33m*\u001b[0m\u001b[1;33m\u001b[0m\u001b[0m\n\u001b[0m\u001b[0;32m    602\u001b[0m \u001b[1;33m\u001b[0m\u001b[0m\n\u001b[0;32m    603\u001b[0m \u001b[1;32mfrom\u001b[0m \u001b[1;33m.\u001b[0m\u001b[0mbasic\u001b[0m \u001b[1;32mimport\u001b[0m \u001b[1;33m*\u001b[0m\u001b[1;33m\u001b[0m\u001b[0m\n",
      "\u001b[1;31mImportError\u001b[0m: DLL load failed: 找不到指定的模块。"
     ]
    }
   ],
   "source": [
    "import matplotlib.pyplot as plt\n",
    "\n",
    "from skimage.feature import hog\n",
    "from skimage import data, color, exposure\n",
    "\n",
    "\n",
    "image = color.rgb2gray(data.astronaut())\n",
    "\n",
    "fd, hog_image = hog(image, orientations=8, pixels_per_cell=(16, 16),\n",
    "                    cells_per_block=(1, 1), visualise=True)\n",
    "\n",
    "fig, (ax1, ax2) = plt.subplots(1, 2, figsize=(8, 4))\n",
    "\n",
    "ax1.axis('off')\n",
    "ax1.imshow(image, cmap=plt.cm.gray)\n",
    "ax1.set_title('Input image')\n",
    "\n",
    "# Rescale histogram for better display\n",
    "hog_image_rescaled = exposure.rescale_intensity(hog_image, in_range=(0, 0.02))\n",
    "\n",
    "ax2.axis('off')\n",
    "ax2.imshow(hog_image_rescaled, cmap=plt.cm.gray)\n",
    "ax2.set_title('Histogram of Oriented Gradients')\n",
    "plt.show()\n"
   ]
  },
  {
   "cell_type": "code",
   "execution_count": 4,
   "metadata": {
    "collapsed": false
   },
   "outputs": [
    {
     "data": {
      "text/plain": [
       "['__builtins__',\n",
       " '__doc__',\n",
       " '__file__',\n",
       " '__name__',\n",
       " '__package__',\n",
       " '__path__',\n",
       " '__version__',\n",
       " '_functools',\n",
       " '_imp',\n",
       " '_osp',\n",
       " '_test',\n",
       " '_warnings',\n",
       " 'data_dir',\n",
       " 'doctest',\n",
       " 'doctest_verbose',\n",
       " 'dtype_limits',\n",
       " 'img_as_bool',\n",
       " 'img_as_float',\n",
       " 'img_as_int',\n",
       " 'img_as_ubyte',\n",
       " 'img_as_uint',\n",
       " 'pkg_dir',\n",
       " 'test',\n",
       " 'test_verbose',\n",
       " 'util']"
      ]
     },
     "execution_count": 4,
     "metadata": {},
     "output_type": "execute_result"
    }
   ],
   "source": [
    "import skimage\n",
    "dir(skimage)"
   ]
  },
  {
   "cell_type": "code",
   "execution_count": null,
   "metadata": {
    "collapsed": true
   },
   "outputs": [],
   "source": []
  }
 ],
 "metadata": {
  "kernelspec": {
   "display_name": "Python 2",
   "language": "python",
   "name": "python2"
  },
  "language_info": {
   "codemirror_mode": {
    "name": "ipython",
    "version": 2
   },
   "file_extension": ".py",
   "mimetype": "text/x-python",
   "name": "python",
   "nbconvert_exporter": "python",
   "pygments_lexer": "ipython2",
   "version": "2.7.11"
  }
 },
 "nbformat": 4,
 "nbformat_minor": 0
}
